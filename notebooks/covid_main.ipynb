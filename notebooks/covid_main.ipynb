{
 "cells": [
  {
   "cell_type": "code",
   "execution_count": 1,
   "metadata": {},
   "outputs": [],
   "source": [
    "import pandas as pd\n",
    "import numpy as np\n",
    "import scipy\n",
    "import matplotlib.pyplot as plt\n",
    "import seaborn as sn\n",
    "from IPython.display import display\n",
    "from IPython.display import HTML\n",
    "import IPython.core.display as di # Example: di.display_html('<h3>%s:</h3>' % str, raw=True)"
   ]
  },
  {
   "cell_type": "code",
   "execution_count": 2,
   "metadata": {},
   "outputs": [
    {
     "data": {
      "text/html": [
       "<script>\n",
       "code_show=true; \n",
       "function code_toggle() {\n",
       " if (code_show){\n",
       " $('div.input').hide();\n",
       " } else {\n",
       " $('div.input').show();\n",
       " }\n",
       " code_show = !code_show\n",
       "} \n",
       "$( document ).ready(code_toggle);\n",
       "</script>\n",
       "<form action=\"javascript:code_toggle()\"><input type=\"submit\" value=\"ON/OFF code\"></form>"
      ],
      "text/plain": [
       "<IPython.core.display.HTML object>"
      ]
     },
     "execution_count": 2,
     "metadata": {},
     "output_type": "execute_result"
    }
   ],
   "source": [
    "HTML('''<script>\n",
    "code_show=true; \n",
    "function code_toggle() {\n",
    " if (code_show){\n",
    " $('div.input').hide();\n",
    " } else {\n",
    " $('div.input').show();\n",
    " }\n",
    " code_show = !code_show\n",
    "} \n",
    "$( document ).ready(code_toggle);\n",
    "</script>\n",
    "<form action=\"javascript:code_toggle()\"><input type=\"submit\" value=\"ON/OFF code\"></form>''')"
   ]
  },
  {
   "cell_type": "code",
   "execution_count": 21,
   "metadata": {},
   "outputs": [],
   "source": [
    "# Algumas funções práticas\n",
    "\n",
    "def anotaGrafico(ax):\n",
    "    for rect in ax.patches:\n",
    "        y_value = rect.get_height()\n",
    "        x_value = rect.get_x() + rect.get_width() / 2\n",
    "\n",
    "            # Number of points between bar and label. Change to your liking.\n",
    "        space = 1\n",
    "        # Vertical alignment for positive values\n",
    "        va = 'bottom'\n",
    "\n",
    "        # If value of bar is negative: Place label below bar\n",
    "        if y_value < 0:\n",
    "            # Invert space to place label below\n",
    "            space *= -1\n",
    "            # Vertically align label at top\n",
    "            va = 'top'\n",
    "\n",
    "        # Use Y value as label and format number with one decimal place\n",
    "        label = \"{:.0f}\".format(y_value)\n",
    "\n",
    "        # Create annotation\n",
    "        ax.annotate(\n",
    "            label + '\\n',                      # Use `label` as label\n",
    "            (x_value, y_value),         # Place label at end of the bar\n",
    "            xytext=(0, space),          # Vertically shift label by `space`\n",
    "            textcoords=\"offset points\", # Interpret `xytext` as offset in points\n",
    "            ha='center',                # Horizontally center label\n",
    "            va=va)"
   ]
  },
  {
   "cell_type": "markdown",
   "metadata": {},
   "source": [
    "# Análise Exploratória COVID-19\n",
    "\n",
    "***"
   ]
  },
  {
   "cell_type": "markdown",
   "metadata": {},
   "source": [
    "   O intuito deste Notebook é de explorar a base de dados públicos do novo coronavírus disponível no painel do [DataSUS](https://covid.saude.gov.br/). Informações sobre o que é o COVID-19 e outras dúvidas relacionadas podem ser encontradas na página [principal do repositório](https://github.com/leocneves/COVID-19) ou no próprio site do [Ministério da Saúde](https://coronavirus.saude.gov.br/sobre-a-doenca#o-que-e-covid).\n",
    "Vamos visualizar algumas informações relevantes de maneira gráfica quanto ao registro de novos casos e óbitos por região e pelo Brasil, bem como informações de faixa etária e algumas outras comparações relevantes.\n",
    "\n",
    "***\n",
    "\n",
    "Conteúdo:\n",
    "\n",
    "1. [Análise Inicial dos Dados](#1.-Análise-Inicial-dos-Dados)\n",
    "    - Dados ausentes\n",
    "    - Tipos de Dados\n",
    "    \n",
    "    \n",
    "2. [Volumes dos Dados](#2.-Volumes-dos-Dados)\n",
    "    - Visualizações de casos novos/óbitos por região/Brasil\n",
    "    - Visualizações da evolução\n",
    "\n",
    "***"
   ]
  },
  {
   "cell_type": "markdown",
   "metadata": {},
   "source": [
    "### 1. Análise Inicial dos Dados"
   ]
  },
  {
   "cell_type": "code",
   "execution_count": 3,
   "metadata": {},
   "outputs": [],
   "source": [
    "df = pd.read_excel('../datasets/covid_brasil.xlsx')"
   ]
  },
  {
   "cell_type": "markdown",
   "metadata": {},
   "source": [
    "- Quantidade de valores ausentes e tipos das colunas:"
   ]
  },
  {
   "cell_type": "code",
   "execution_count": 4,
   "metadata": {},
   "outputs": [
    {
     "data": {
      "text/html": [
       "<div>\n",
       "<style scoped>\n",
       "    .dataframe tbody tr th:only-of-type {\n",
       "        vertical-align: middle;\n",
       "    }\n",
       "\n",
       "    .dataframe tbody tr th {\n",
       "        vertical-align: top;\n",
       "    }\n",
       "\n",
       "    .dataframe thead th {\n",
       "        text-align: right;\n",
       "    }\n",
       "</style>\n",
       "<table border=\"1\" class=\"dataframe\">\n",
       "  <thead>\n",
       "    <tr style=\"text-align: right;\">\n",
       "      <th></th>\n",
       "      <th>Coluna</th>\n",
       "      <th>Tipo</th>\n",
       "      <th>Qtd. Nulos</th>\n",
       "    </tr>\n",
       "  </thead>\n",
       "  <tbody>\n",
       "    <tr>\n",
       "      <th>0</th>\n",
       "      <td>regiao</td>\n",
       "      <td>object</td>\n",
       "      <td>0</td>\n",
       "    </tr>\n",
       "    <tr>\n",
       "      <th>1</th>\n",
       "      <td>estado</td>\n",
       "      <td>object</td>\n",
       "      <td>80</td>\n",
       "    </tr>\n",
       "    <tr>\n",
       "      <th>2</th>\n",
       "      <td>municipio</td>\n",
       "      <td>object</td>\n",
       "      <td>2259</td>\n",
       "    </tr>\n",
       "    <tr>\n",
       "      <th>3</th>\n",
       "      <td>coduf</td>\n",
       "      <td>int64</td>\n",
       "      <td>0</td>\n",
       "    </tr>\n",
       "    <tr>\n",
       "      <th>4</th>\n",
       "      <td>codmun</td>\n",
       "      <td>float64</td>\n",
       "      <td>1787</td>\n",
       "    </tr>\n",
       "    <tr>\n",
       "      <th>5</th>\n",
       "      <td>codRegiaoSaude</td>\n",
       "      <td>float64</td>\n",
       "      <td>2259</td>\n",
       "    </tr>\n",
       "    <tr>\n",
       "      <th>6</th>\n",
       "      <td>nomeRegiaoSaude</td>\n",
       "      <td>object</td>\n",
       "      <td>2259</td>\n",
       "    </tr>\n",
       "    <tr>\n",
       "      <th>7</th>\n",
       "      <td>data</td>\n",
       "      <td>object</td>\n",
       "      <td>0</td>\n",
       "    </tr>\n",
       "    <tr>\n",
       "      <th>8</th>\n",
       "      <td>semanaEpi</td>\n",
       "      <td>int64</td>\n",
       "      <td>0</td>\n",
       "    </tr>\n",
       "    <tr>\n",
       "      <th>9</th>\n",
       "      <td>populacaoTCU2019</td>\n",
       "      <td>float64</td>\n",
       "      <td>472</td>\n",
       "    </tr>\n",
       "    <tr>\n",
       "      <th>10</th>\n",
       "      <td>casosAcumulado</td>\n",
       "      <td>int64</td>\n",
       "      <td>0</td>\n",
       "    </tr>\n",
       "    <tr>\n",
       "      <th>11</th>\n",
       "      <td>obitosAcumulado</td>\n",
       "      <td>int64</td>\n",
       "      <td>0</td>\n",
       "    </tr>\n",
       "    <tr>\n",
       "      <th>12</th>\n",
       "      <td>Recuperadosnovos</td>\n",
       "      <td>float64</td>\n",
       "      <td>78972</td>\n",
       "    </tr>\n",
       "    <tr>\n",
       "      <th>13</th>\n",
       "      <td>emAcompanhamentoNovos</td>\n",
       "      <td>float64</td>\n",
       "      <td>78972</td>\n",
       "    </tr>\n",
       "  </tbody>\n",
       "</table>\n",
       "</div>"
      ],
      "text/plain": [
       "                   Coluna     Tipo Qtd. Nulos\n",
       "0                  regiao   object          0\n",
       "1                  estado   object         80\n",
       "2               municipio   object       2259\n",
       "3                   coduf    int64          0\n",
       "4                  codmun  float64       1787\n",
       "5          codRegiaoSaude  float64       2259\n",
       "6         nomeRegiaoSaude   object       2259\n",
       "7                    data   object          0\n",
       "8               semanaEpi    int64          0\n",
       "9        populacaoTCU2019  float64        472\n",
       "10         casosAcumulado    int64          0\n",
       "11        obitosAcumulado    int64          0\n",
       "12       Recuperadosnovos  float64      78972\n",
       "13  emAcompanhamentoNovos  float64      78972"
      ]
     },
     "execution_count": 4,
     "metadata": {},
     "output_type": "execute_result"
    }
   ],
   "source": [
    "pd.DataFrame(columns=['Coluna', 'Tipo', 'Qtd. Nulos'], data=np.array([df.columns.values, \n",
    "                                                             df.dtypes.values, \n",
    "                                                             df.isna().sum().values]).T)"
   ]
  },
  {
   "cell_type": "code",
   "execution_count": 5,
   "metadata": {},
   "outputs": [],
   "source": [
    "# Transformações Necessárias\n",
    "\n",
    "df = df[df.estado.notna()] # Retirando estados faltantes (número de deleções aceitável com base na tabela acima)\n",
    "\n",
    "df['data'] = pd.to_datetime(df['data'], format='%Y-%m-%d') # Transformação da coluna de data de tipo string -> tipod data\n"
   ]
  },
  {
   "cell_type": "markdown",
   "metadata": {},
   "source": [
    "### 2. Volumes dos Dados"
   ]
  },
  {
   "cell_type": "markdown",
   "metadata": {},
   "source": [
    "- Acumulado de casos por região, óbitos e letalidade"
   ]
  },
  {
   "cell_type": "code",
   "execution_count": 6,
   "metadata": {},
   "outputs": [
    {
     "data": {
      "text/html": [
       "<div>\n",
       "<style scoped>\n",
       "    .dataframe tbody tr th:only-of-type {\n",
       "        vertical-align: middle;\n",
       "    }\n",
       "\n",
       "    .dataframe tbody tr th {\n",
       "        vertical-align: top;\n",
       "    }\n",
       "\n",
       "    .dataframe thead th {\n",
       "        text-align: right;\n",
       "    }\n",
       "</style>\n",
       "<table border=\"1\" class=\"dataframe\">\n",
       "  <thead>\n",
       "    <tr style=\"text-align: right;\">\n",
       "      <th></th>\n",
       "      <th>regiao</th>\n",
       "      <th>casosAcumulado</th>\n",
       "      <th>obitosAcumulado</th>\n",
       "    </tr>\n",
       "  </thead>\n",
       "  <tbody>\n",
       "    <tr>\n",
       "      <th>0</th>\n",
       "      <td>Centro-Oeste</td>\n",
       "      <td>6617</td>\n",
       "      <td>162</td>\n",
       "    </tr>\n",
       "    <tr>\n",
       "      <th>1</th>\n",
       "      <td>Nordeste</td>\n",
       "      <td>72076</td>\n",
       "      <td>4223</td>\n",
       "    </tr>\n",
       "    <tr>\n",
       "      <th>2</th>\n",
       "      <td>Norte</td>\n",
       "      <td>40473</td>\n",
       "      <td>2762</td>\n",
       "    </tr>\n",
       "    <tr>\n",
       "      <th>3</th>\n",
       "      <td>Sudeste</td>\n",
       "      <td>88759</td>\n",
       "      <td>7345</td>\n",
       "    </tr>\n",
       "    <tr>\n",
       "      <th>4</th>\n",
       "      <td>Sul</td>\n",
       "      <td>10298</td>\n",
       "      <td>325</td>\n",
       "    </tr>\n",
       "  </tbody>\n",
       "</table>\n",
       "</div>"
      ],
      "text/plain": [
       "         regiao  casosAcumulado  obitosAcumulado\n",
       "0  Centro-Oeste            6617              162\n",
       "1      Nordeste           72076             4223\n",
       "2         Norte           40473             2762\n",
       "3       Sudeste           88759             7345\n",
       "4           Sul           10298              325"
      ]
     },
     "execution_count": 6,
     "metadata": {},
     "output_type": "execute_result"
    }
   ],
   "source": [
    "pd.pivot_table(df, values=['regiao', 'casosAcumulado', 'obitosAcumulado'], \n",
    "               columns=['estado'], aggfunc=[np.max]).xs('amax', axis=1, \n",
    "                                                        drop_level=True).T.reset_index().groupby('regiao').agg({'casosAcumulado':np.sum, 'obitosAcumulado':np.sum}).reset_index()"
   ]
  },
  {
   "cell_type": "code",
   "execution_count": 7,
   "metadata": {},
   "outputs": [
    {
     "data": {
      "text/html": [
       "<div>\n",
       "<style scoped>\n",
       "    .dataframe tbody tr th:only-of-type {\n",
       "        vertical-align: middle;\n",
       "    }\n",
       "\n",
       "    .dataframe tbody tr th {\n",
       "        vertical-align: top;\n",
       "    }\n",
       "\n",
       "    .dataframe thead th {\n",
       "        text-align: right;\n",
       "    }\n",
       "</style>\n",
       "<table border=\"1\" class=\"dataframe\">\n",
       "  <thead>\n",
       "    <tr style=\"text-align: right;\">\n",
       "      <th></th>\n",
       "      <th>regiao</th>\n",
       "      <th>Total de Casos</th>\n",
       "      <th>Total de Obitos</th>\n",
       "      <th>% Região para Brasil</th>\n",
       "      <th>% Obitos</th>\n",
       "    </tr>\n",
       "  </thead>\n",
       "  <tbody>\n",
       "    <tr>\n",
       "      <th>0</th>\n",
       "      <td>Centro-Oeste</td>\n",
       "      <td>6617</td>\n",
       "      <td>162</td>\n",
       "      <td>3.03</td>\n",
       "      <td>2.45</td>\n",
       "    </tr>\n",
       "    <tr>\n",
       "      <th>1</th>\n",
       "      <td>Nordeste</td>\n",
       "      <td>72076</td>\n",
       "      <td>4223</td>\n",
       "      <td>33.03</td>\n",
       "      <td>5.86</td>\n",
       "    </tr>\n",
       "    <tr>\n",
       "      <th>2</th>\n",
       "      <td>Norte</td>\n",
       "      <td>40473</td>\n",
       "      <td>2762</td>\n",
       "      <td>18.55</td>\n",
       "      <td>6.82</td>\n",
       "    </tr>\n",
       "    <tr>\n",
       "      <th>3</th>\n",
       "      <td>Sudeste</td>\n",
       "      <td>88759</td>\n",
       "      <td>7345</td>\n",
       "      <td>40.67</td>\n",
       "      <td>8.28</td>\n",
       "    </tr>\n",
       "    <tr>\n",
       "      <th>4</th>\n",
       "      <td>Sul</td>\n",
       "      <td>10298</td>\n",
       "      <td>325</td>\n",
       "      <td>4.72</td>\n",
       "      <td>3.16</td>\n",
       "    </tr>\n",
       "  </tbody>\n",
       "</table>\n",
       "</div>"
      ],
      "text/plain": [
       "         regiao  Total de Casos  Total de Obitos  % Região para Brasil  \\\n",
       "0  Centro-Oeste            6617              162                  3.03   \n",
       "1      Nordeste           72076             4223                 33.03   \n",
       "2         Norte           40473             2762                 18.55   \n",
       "3       Sudeste           88759             7345                 40.67   \n",
       "4           Sul           10298              325                  4.72   \n",
       "\n",
       "   % Obitos  \n",
       "0      2.45  \n",
       "1      5.86  \n",
       "2      6.82  \n",
       "3      8.28  \n",
       "4      3.16  "
      ]
     },
     "metadata": {},
     "output_type": "display_data"
    },
    {
     "data": {
      "image/png": "[encoded data removed]",
      "text/plain": [
       "<Figure size 576x432 with 2 Axes>"
      ]
     },
     "metadata": {
      "needs_background": "light"
     },
     "output_type": "display_data"
    }
   ],
   "source": [
    "df_vol = pd.pivot_table(df, values=['regiao', 'casosAcumulado', 'obitosAcumulado'], \n",
    "               columns=['estado'], aggfunc=[np.max]).xs('amax', axis=1, \n",
    "                                                        drop_level=True).T.reset_index().groupby('regiao').agg({'casosAcumulado':np.sum, 'obitosAcumulado':np.sum}).reset_index()\n",
    "\n",
    "df_vol.rename(columns={'casosAcumulado':'Total de Casos', 'obitosAcumulado':'Total de Obitos'}, inplace = True)\n",
    "\n",
    "df_vol['% Região para Brasil'] = round((df_vol['Total de Casos'] / df_vol['Total de Casos'].sum()) * 100, 2) # % da região \n",
    "df_vol['% Obitos'] = round((df_vol['Total de Obitos'] / df_vol['Total de Casos']) * 100, 2) # Letalidade\n",
    "display(df_vol)\n",
    "\n",
    "fig, ax = plt.subplots(figsize=(8,6)) \n",
    "# Criando os plots\n",
    "sn.barplot(x='regiao', y='Total de Casos', data=df_vol, ax=ax)\n",
    "ax2 = plt.twinx()\n",
    "sn.pointplot(x='regiao', y='% Região para Brasil', data=df_vol, ax=ax2, markers='x')\n",
    "\n",
    "# Setando configurações\n",
    "ax.set(ylim=(0, df_vol['Total de Casos'].max()*1.3), yticks=[])\n",
    "ax2.set(ylim=(-300, 100), yticks=[])\n",
    "\n",
    "# Anotando\n",
    "for rect, i in zip(ax.patches, df_vol['% Região para Brasil'].values):\n",
    "    y_value = rect.get_height()\n",
    "    x_value = rect.get_x() + rect.get_width() / 2\n",
    "\n",
    "    # Number of points between bar and label. Change to your liking.\n",
    "    space = 1\n",
    "    # Vertical alignment for positive values\n",
    "    va = 'bottom'\n",
    "\n",
    "    # If value of bar is negative: Place label below bar\n",
    "    if y_value < 0:\n",
    "        # Invert space to place label below\n",
    "        space *= -1\n",
    "        # Vertically align label at top\n",
    "        va = 'top'\n",
    "\n",
    "    # Use Y value as label and format number with one decimal place\n",
    "    label = \"{:.0f}\".format(y_value)\n",
    "\n",
    "    # Create annotation\n",
    "    ax.annotate(\n",
    "        label,                      # Use `label` as label\n",
    "        (x_value, y_value),         # Place label at end of the bar\n",
    "        xytext=(0, space),          # Vertically shift label by `space`\n",
    "        textcoords=\"offset points\", # Interpret `xytext` as offset in points\n",
    "        ha='center',                # Horizontally center label\n",
    "        va=va)                      # Vertically align label differently for\n",
    "                                    # positive and negative values.\n",
    "        \n",
    "    ax2.annotate(\n",
    "        str(i) + '%\\n',                      # Use `label` as label\n",
    "        (x_value, i),         # Place label at end of the bar\n",
    "        xytext=(0, space),          # Vertically shift label by `space`\n",
    "        textcoords=\"offset points\", # Interpret `xytext` as offset in points\n",
    "        ha='center',                # Horizontally center label\n",
    "        va=va)                      # Vertically align label differently for\n",
    "                                    # positive and negative values.\n",
    "\n",
    "plt.show()"
   ]
  },
  {
   "cell_type": "markdown",
   "metadata": {},
   "source": [
    "- Acumulado de casos novos de COVID-19 por Semana Epidemiológica de notificação Brasil"
   ]
  },
  {
   "cell_type": "code",
   "execution_count": 25,
   "metadata": {},
   "outputs": [
    {
     "data": {
      "image/png": "[encoded data removed]",
      "text/plain": [
       "<Figure size 864x360 with 1 Axes>"
      ]
     },
     "metadata": {
      "needs_background": "light"
     },
     "output_type": "display_data"
    }
   ],
   "source": [
    "df_group_data = df.groupby(['regiao', 'estado', 'semanaEpi'])['casosAcumulado'].max().reset_index().groupby(['regiao', 'semanaEpi']).sum().reset_index().groupby(['semanaEpi']).sum().reset_index()\n",
    "\n",
    "# df_group_data['casosNovosAcumulado'] = df_group_data['casosNovos'].cumsum()\n",
    "\n",
    "fig, ax = plt.subplots(figsize=(12,5))\n",
    "g = sn.barplot(x='semanaEpi', y='casosAcumulado', data=df_group_data) # , hue='regiao', ax=ax\n",
    "\n",
    "ax.set(xlabel='Semanas após primeiro caso', ylabel='')\n",
    "\n",
    "# # calculate linear regression function\n",
    "# X = list(range(len(df_group_data['data'])))\n",
    "\n",
    "# slope, intercept, r_value, p_value, std_err = scipy.stats.linregress(x=np.array(X), y=df_group_data['casosNovosAcumulado'].apply(np.log1p))\n",
    "\n",
    "# # X.extend([15,16])\n",
    "\n",
    "# g.plot(X, np.exp(intercept + slope * np.array(X)), 'r')\n",
    "\n",
    "g.set(ylim=(0, df_group_data['casosAcumulado'].max()*1.2))\n",
    "\n",
    "anotaGrafico(ax)\n",
    "\n",
    "plt.show()"
   ]
  },
  {
   "cell_type": "markdown",
   "metadata": {},
   "source": [
    "- Acumulado de casos novos de COVID-19 por Semana Epidemiológica de notificação Brasil por região"
   ]
  },
  {
   "cell_type": "code",
   "execution_count": 27,
   "metadata": {},
   "outputs": [
    {
     "data": {
      "image/png": "[encoded data removed]",
      "text/plain": [
       "<Figure size 864x360 with 1 Axes>"
      ]
     },
     "metadata": {
      "needs_background": "light"
     },
     "output_type": "display_data"
    }
   ],
   "source": [
    "df_group_data = df.groupby(['regiao', 'estado', 'semanaEpi'])['casosAcumulado'].max().reset_index().groupby(['regiao', 'semanaEpi']).sum().reset_index()\n",
    "\n",
    "# df_group_data['casosNovosAcumulado'] = df_group_data['casosNovos'].cumsum()\n",
    "\n",
    "fig, ax = plt.subplots(figsize=(12,5))\n",
    "g = sn.lineplot(x='semanaEpi', y='casosAcumulado', data=df_group_data, hue='regiao', ax=ax) \n",
    "g.set(xlabel='Semanas após primeiro caso', ylabel='')\n",
    "\n",
    "anotaGrafico(ax)\n",
    "\n",
    "# g.set(xlim=(-1, 15))\n",
    "plt.show()"
   ]
  }
 ],
 "metadata": {
  "kernelspec": {
   "display_name": "Python 3",
   "language": "python",
   "name": "python3"
  },
  "language_info": {
   "codemirror_mode": {
    "name": "ipython",
    "version": 3
   },
   "file_extension": ".py",
   "mimetype": "text/x-python",
   "name": "python",
   "nbconvert_exporter": "python",
   "pygments_lexer": "ipython3",
   "version": "3.8.2"
  }
 },
 "nbformat": 4,
 "nbformat_minor": 4
}
