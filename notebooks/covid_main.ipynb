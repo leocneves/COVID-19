{
 "cells": [
  {
   "cell_type": "code",
   "execution_count": 154,
   "metadata": {},
   "outputs": [],
   "source": [
    "import pandas as pd\n",
    "import numpy as np\n",
    "import scipy\n",
    "import matplotlib.pyplot as plt\n",
    "import seaborn as sn\n",
    "from IPython.display import display\n",
    "from IPython.display import HTML\n",
    "import IPython.core.display as di # Example: di.display_html('<h3>%s:</h3>' % str, raw=True)"
   ]
  },
  {
   "cell_type": "code",
   "execution_count": 3,
   "metadata": {},
   "outputs": [
    {
     "data": {
      "text/html": [
       "<script>\n",
       "code_show=true; \n",
       "function code_toggle() {\n",
       " if (code_show){\n",
       " $('div.input').hide();\n",
       " } else {\n",
       " $('div.input').show();\n",
       " }\n",
       " code_show = !code_show\n",
       "} \n",
       "$( document ).ready(code_toggle);\n",
       "</script>\n",
       "<form action=\"javascript:code_toggle()\"><input type=\"submit\" value=\"ON/OFF code\"></form>"
      ],
      "text/plain": [
       "<IPython.core.display.HTML object>"
      ]
     },
     "execution_count": 3,
     "metadata": {},
     "output_type": "execute_result"
    }
   ],
   "source": [
    "HTML('''<script>\n",
    "code_show=true; \n",
    "function code_toggle() {\n",
    " if (code_show){\n",
    " $('div.input').hide();\n",
    " } else {\n",
    " $('div.input').show();\n",
    " }\n",
    " code_show = !code_show\n",
    "} \n",
    "$( document ).ready(code_toggle);\n",
    "</script>\n",
    "<form action=\"javascript:code_toggle()\"><input type=\"submit\" value=\"ON/OFF code\"></form>''')"
   ]
  },
  {
   "cell_type": "markdown",
   "metadata": {},
   "source": [
    "# Análise Exploratória COVID-19\n",
    "\n",
    "***"
   ]
  },
  {
   "cell_type": "markdown",
   "metadata": {},
   "source": [
    "   O intuito deste Notebook é de explorar a base de dados públicos do novo coronavírus disponível no painel do [DataSUS](https://covid.saude.gov.br/). Informações sobre o que é o COVID-19 e outras dúvidas relacionadas podem ser encontradas na página [principal do repositório](https://github.com/leocneves/COVID-19) ou no próprio site do [Ministério da Saúde](https://coronavirus.saude.gov.br/sobre-a-doenca#o-que-e-covid).\n",
    "Vamos visualizar algumas informações relevantes de maneira gráfica quanto ao registro de novos casos e óbitos por região e pelo Brasil, bem como informações de faixa etária e algumas outras comparações relevantes.\n",
    "\n",
    "***\n",
    "\n",
    "Conteúdo:\n",
    "\n",
    "1. [Análise Inicial dos Dados](#1.-Análise-Inicial-dos-Dados)\n",
    "    - Dados ausentes\n",
    "    - Tipos de Dados\n",
    "    \n",
    "    \n",
    "2. [Volumes dos Dados](#2.-Volumes-dos-Dados)\n",
    "    - Visualizações de casos novos/óbitos por região/Brasil\n",
    "    - Visualizações da evolução\n",
    "\n",
    "***"
   ]
  },
  {
   "cell_type": "markdown",
   "metadata": {},
   "source": [
    "### 1. Análise Inicial dos Dados"
   ]
  },
  {
   "cell_type": "code",
   "execution_count": 25,
   "metadata": {},
   "outputs": [],
   "source": [
    "df = pd.read_csv('../datasets/arquivo_geral.csv', sep=';')"
   ]
  },
  {
   "cell_type": "markdown",
   "metadata": {},
   "source": [
    "- Quantidade de valores ausentes e tipos das colunas:"
   ]
  },
  {
   "cell_type": "code",
   "execution_count": 106,
   "metadata": {},
   "outputs": [
    {
     "data": {
      "text/html": [
       "<div>\n",
       "<style scoped>\n",
       "    .dataframe tbody tr th:only-of-type {\n",
       "        vertical-align: middle;\n",
       "    }\n",
       "\n",
       "    .dataframe tbody tr th {\n",
       "        vertical-align: top;\n",
       "    }\n",
       "\n",
       "    .dataframe thead th {\n",
       "        text-align: right;\n",
       "    }\n",
       "</style>\n",
       "<table border=\"1\" class=\"dataframe\">\n",
       "  <thead>\n",
       "    <tr style=\"text-align: right;\">\n",
       "      <th></th>\n",
       "      <th>Coluna</th>\n",
       "      <th>Tipo</th>\n",
       "      <th>Qtd. Nulos</th>\n",
       "    </tr>\n",
       "  </thead>\n",
       "  <tbody>\n",
       "    <tr>\n",
       "      <th>0</th>\n",
       "      <td>regiao</td>\n",
       "      <td>object</td>\n",
       "      <td>0</td>\n",
       "    </tr>\n",
       "    <tr>\n",
       "      <th>1</th>\n",
       "      <td>estado</td>\n",
       "      <td>object</td>\n",
       "      <td>0</td>\n",
       "    </tr>\n",
       "    <tr>\n",
       "      <th>2</th>\n",
       "      <td>data</td>\n",
       "      <td>datetime64[ns]</td>\n",
       "      <td>0</td>\n",
       "    </tr>\n",
       "    <tr>\n",
       "      <th>3</th>\n",
       "      <td>casosNovos</td>\n",
       "      <td>int64</td>\n",
       "      <td>0</td>\n",
       "    </tr>\n",
       "    <tr>\n",
       "      <th>4</th>\n",
       "      <td>casosAcumulados</td>\n",
       "      <td>int64</td>\n",
       "      <td>0</td>\n",
       "    </tr>\n",
       "    <tr>\n",
       "      <th>5</th>\n",
       "      <td>obitosNovos</td>\n",
       "      <td>int64</td>\n",
       "      <td>0</td>\n",
       "    </tr>\n",
       "    <tr>\n",
       "      <th>6</th>\n",
       "      <td>obitosAcumulados</td>\n",
       "      <td>int64</td>\n",
       "      <td>0</td>\n",
       "    </tr>\n",
       "  </tbody>\n",
       "</table>\n",
       "</div>"
      ],
      "text/plain": [
       "             Coluna            Tipo Qtd. Nulos\n",
       "0            regiao          object          0\n",
       "1            estado          object          0\n",
       "2              data  datetime64[ns]          0\n",
       "3        casosNovos           int64          0\n",
       "4   casosAcumulados           int64          0\n",
       "5       obitosNovos           int64          0\n",
       "6  obitosAcumulados           int64          0"
      ]
     },
     "execution_count": 106,
     "metadata": {},
     "output_type": "execute_result"
    }
   ],
   "source": [
    "pd.DataFrame(columns=['Coluna', 'Tipo', 'Qtd. Nulos'], data=np.array([df.columns.values, \n",
    "                                                             df.dtypes.values, \n",
    "                                                             df.isna().sum().values]).T)"
   ]
  },
  {
   "cell_type": "code",
   "execution_count": 27,
   "metadata": {},
   "outputs": [],
   "source": [
    "# Transformações Necessárias\n",
    "df['data'] = pd.to_datetime(df['data'], format='%Y-%m-%d') # Transformação da coluna de data de tipo string -> tipod data"
   ]
  },
  {
   "cell_type": "markdown",
   "metadata": {},
   "source": [
    "### 2. Volumes dos Dados"
   ]
  },
  {
   "cell_type": "markdown",
   "metadata": {},
   "source": [
    "- Acumulado de casos por região, óbitos e letalidade"
   ]
  },
  {
   "cell_type": "code",
   "execution_count": 132,
   "metadata": {},
   "outputs": [
    {
     "data": {
      "text/html": [
       "<div>\n",
       "<style scoped>\n",
       "    .dataframe tbody tr th:only-of-type {\n",
       "        vertical-align: middle;\n",
       "    }\n",
       "\n",
       "    .dataframe tbody tr th {\n",
       "        vertical-align: top;\n",
       "    }\n",
       "\n",
       "    .dataframe thead th {\n",
       "        text-align: right;\n",
       "    }\n",
       "</style>\n",
       "<table border=\"1\" class=\"dataframe\">\n",
       "  <thead>\n",
       "    <tr style=\"text-align: right;\">\n",
       "      <th></th>\n",
       "      <th>regiao</th>\n",
       "      <th>Total de Casos</th>\n",
       "      <th>Total de Obitos</th>\n",
       "      <th>% Região para Brasil</th>\n",
       "      <th>% Obitos</th>\n",
       "    </tr>\n",
       "  </thead>\n",
       "  <tbody>\n",
       "    <tr>\n",
       "      <th>0</th>\n",
       "      <td>Centro-Oeste</td>\n",
       "      <td>4278</td>\n",
       "      <td>111</td>\n",
       "      <td>2.94</td>\n",
       "      <td>2.59</td>\n",
       "    </tr>\n",
       "    <tr>\n",
       "      <th>1</th>\n",
       "      <td>Nordeste</td>\n",
       "      <td>45724</td>\n",
       "      <td>2774</td>\n",
       "      <td>31.46</td>\n",
       "      <td>6.07</td>\n",
       "    </tr>\n",
       "    <tr>\n",
       "      <th>2</th>\n",
       "      <td>Norte</td>\n",
       "      <td>23207</td>\n",
       "      <td>1557</td>\n",
       "      <td>15.97</td>\n",
       "      <td>6.71</td>\n",
       "    </tr>\n",
       "    <tr>\n",
       "      <th>3</th>\n",
       "      <td>Sudeste</td>\n",
       "      <td>64756</td>\n",
       "      <td>5195</td>\n",
       "      <td>44.56</td>\n",
       "      <td>8.02</td>\n",
       "    </tr>\n",
       "    <tr>\n",
       "      <th>4</th>\n",
       "      <td>Sul</td>\n",
       "      <td>7363</td>\n",
       "      <td>260</td>\n",
       "      <td>5.07</td>\n",
       "      <td>3.53</td>\n",
       "    </tr>\n",
       "  </tbody>\n",
       "</table>\n",
       "</div>"
      ],
      "text/plain": [
       "         regiao  Total de Casos  Total de Obitos  % Região para Brasil  \\\n",
       "0  Centro-Oeste            4278              111                  2.94   \n",
       "1      Nordeste           45724             2774                 31.46   \n",
       "2         Norte           23207             1557                 15.97   \n",
       "3       Sudeste           64756             5195                 44.56   \n",
       "4           Sul            7363              260                  5.07   \n",
       "\n",
       "   % Obitos  \n",
       "0      2.59  \n",
       "1      6.07  \n",
       "2      6.71  \n",
       "3      8.02  \n",
       "4      3.53  "
      ]
     },
     "metadata": {},
     "output_type": "display_data"
    },
    {
     "data": {
      "image/png": "[encoded data removed]",
      "text/plain": [
       "<Figure size 576x432 with 2 Axes>"
      ]
     },
     "metadata": {
      "needs_background": "light"
     },
     "output_type": "display_data"
    }
   ],
   "source": [
    "df_vol = pd.pivot_table(df, values=['casosNovos', 'obitosNovos'], \n",
    "               columns=['regiao'], aggfunc=[np.sum]).xs('sum', axis=1, drop_level=True).T.reset_index()\n",
    "\n",
    "df_vol.rename(columns={'casosNovos':'Total de Casos', 'obitosNovos':'Total de Obitos'}, inplace = True)\n",
    "\n",
    "df_vol['% Região para Brasil'] = round((df_vol['Total de Casos'] / df_vol['Total de Casos'].sum()) * 100, 2) # % da região \n",
    "df_vol['% Obitos'] = round((df_vol['Total de Obitos'] / df_vol['Total de Casos']) * 100, 2) # Letalidade\n",
    "display(df_vol)\n",
    "\n",
    "fig, ax = plt.subplots(figsize=(8,6)) \n",
    "# Criando os plots\n",
    "sn.barplot(x='regiao', y='Total de Casos', data=df_vol, ax=ax)\n",
    "ax2 = plt.twinx()\n",
    "sn.pointplot(x='regiao', y='% Região para Brasil', data=df_vol, ax=ax2, markers='x')\n",
    "\n",
    "# Setando configurações\n",
    "ax.set(ylim=(0, df_vol['Total de Casos'].max()*1.3), yticks=[])\n",
    "ax2.set(ylim=(-300, 100), yticks=[])\n",
    "\n",
    "# Anotando\n",
    "for rect, i in zip(ax.patches, df_vol['% Região para Brasil'].values):\n",
    "    y_value = rect.get_height()\n",
    "    x_value = rect.get_x() + rect.get_width() / 2\n",
    "\n",
    "    # Number of points between bar and label. Change to your liking.\n",
    "    space = 1\n",
    "    # Vertical alignment for positive values\n",
    "    va = 'bottom'\n",
    "\n",
    "    # If value of bar is negative: Place label below bar\n",
    "    if y_value < 0:\n",
    "        # Invert space to place label below\n",
    "        space *= -1\n",
    "        # Vertically align label at top\n",
    "        va = 'top'\n",
    "\n",
    "    # Use Y value as label and format number with one decimal place\n",
    "    label = \"{:.2f}\".format(y_value)\n",
    "\n",
    "    # Create annotation\n",
    "    ax.annotate(\n",
    "        label,                      # Use `label` as label\n",
    "        (x_value, y_value),         # Place label at end of the bar\n",
    "        xytext=(0, space),          # Vertically shift label by `space`\n",
    "        textcoords=\"offset points\", # Interpret `xytext` as offset in points\n",
    "        ha='center',                # Horizontally center label\n",
    "        va=va)                      # Vertically align label differently for\n",
    "                                    # positive and negative values.\n",
    "        \n",
    "    ax2.annotate(\n",
    "        str(i) + '%\\n',                      # Use `label` as label\n",
    "        (x_value, i),         # Place label at end of the bar\n",
    "        xytext=(0, space),          # Vertically shift label by `space`\n",
    "        textcoords=\"offset points\", # Interpret `xytext` as offset in points\n",
    "        ha='center',                # Horizontally center label\n",
    "        va=va)                      # Vertically align label differently for\n",
    "                                    # positive and negative values.\n",
    "\n",
    "plt.show()"
   ]
  },
  {
   "cell_type": "markdown",
   "metadata": {},
   "source": [
    "- Acumulado semanal Brasil"
   ]
  },
  {
   "cell_type": "code",
   "execution_count": 184,
   "metadata": {},
   "outputs": [
    {
     "data": {
      "image/png": "[encoded data removed]",
      "text/plain": [
       "<Figure size 864x360 with 1 Axes>"
      ]
     },
     "metadata": {
      "needs_background": "light"
     },
     "output_type": "display_data"
    }
   ],
   "source": [
    "df_group_data = df.groupby(pd.Grouper(key='data', freq='W')).sum().reset_index()\n",
    "\n",
    "df_group_data['casosNovosAcumulado'] = df_group_data['casosNovos'].cumsum()\n",
    "\n",
    "fig, ax = plt.subplots(figsize=(12,5))\n",
    "g = sn.barplot(x='data', y='casosNovosAcumulado', data=df_group_data) # , hue='regiao', ax=ax\n",
    "\n",
    "ax.set(xticklabels=list(range(len(df_group_data['data']))),\n",
    "     xlabel='Semanas após primeiro caso', ylabel='')\n",
    "\n",
    "# # calculate linear regression function\n",
    "# X = list(range(len(df_group_data['data'])))\n",
    "\n",
    "# slope, intercept, r_value, p_value, std_err = scipy.stats.linregress(x=np.array(X), y=df_group_data['casosNovosAcumulado'].apply(np.log1p))\n",
    "\n",
    "# # X.extend([15,16])\n",
    "\n",
    "# g.plot(X, np.exp(intercept + slope * np.array(X)), 'r')\n",
    "\n",
    "g.set(xlim=(-1, 15), ylim=(0, df_group_data['casosNovosAcumulado'].max()*1.2))\n",
    "plt.show()"
   ]
  },
  {
   "cell_type": "markdown",
   "metadata": {},
   "source": [
    "- Acumulado semanal Brasil por região"
   ]
  },
  {
   "cell_type": "code",
   "execution_count": 191,
   "metadata": {},
   "outputs": [
    {
     "data": {
      "image/png": "[encoded data removed]",
      "text/plain": [
       "<Figure size 864x360 with 1 Axes>"
      ]
     },
     "metadata": {
      "needs_background": "light"
     },
     "output_type": "display_data"
    }
   ],
   "source": [
    "df_group_data = df.groupby([pd.Grouper(key='data', freq='W'), 'regiao']).sum().reset_index()\n",
    "\n",
    "df_group_data['casosNovosAcumulado'] = df_group_data['casosNovos'].cumsum()\n",
    "\n",
    "fig, ax = plt.subplots(figsize=(12,5))\n",
    "g = sn.lineplot(x=list(range(len(df_group_data['data']))), y='casosNovosAcumulado', data=df_group_data, hue='regiao', ax=ax) \n",
    "g.set(xticklabels=list(range(len(df_group_data['data']))),\n",
    "     xlabel='Semanas após primeiro caso', ylabel='')\n",
    "\n",
    "# g.set(xlim=(-1, 15))\n",
    "plt.show()"
   ]
  }
 ],
 "metadata": {
  "kernelspec": {
   "display_name": "Python 3",
   "language": "python",
   "name": "python3"
  },
  "language_info": {
   "codemirror_mode": {
    "name": "ipython",
    "version": 3
   },
   "file_extension": ".py",
   "mimetype": "text/x-python",
   "name": "python",
   "nbconvert_exporter": "python",
   "pygments_lexer": "ipython3",
   "version": "3.8.2"
  }
 },
 "nbformat": 4,
 "nbformat_minor": 4
}
